{
 "cells": [
  {
   "cell_type": "code",
   "execution_count": 9,
   "metadata": {},
   "outputs": [],
   "source": [
    "class Nodo:\n",
    "    def __init__(self, dato):\n",
    "        self.izq = None\n",
    "        self.der = None\n",
    "        self.dato = dato\n",
    "\n",
    "    def insertaVal(self, dato):\n",
    "        if dato < self.dato:\n",
    "            if self.izq == None:\n",
    "                self.izq = Nodo(dato)\n",
    "            else:\n",
    "                self.izq.insertaVal(dato)\n",
    "        \n",
    "        elif dato > self.dato:       \n",
    "            if self.der == None:\n",
    "                self.der = Nodo(dato)\n",
    "            else:\n",
    "                self.der.insertaVal(dato)\n",
    "        else:\n",
    "            print(\"valor repetido\")\n",
    "\n",
    "#sigo con la siguiente funcion, le vamos a cambiar el nombre a buscaVal por comodidad simpremente:\n",
    "\n",
    "def buscaVal(self, val_buscado):\n",
    "    # siemrpre se arranca por la raiz, y como mi arbol esta ordenado segun los numeros sean mayor o menor\n",
    "    # es mas optimo y facil buscar, arrancare preg si es mayor o menor que la raiz,\n",
    "    # y luego que se desplaze a la derecha / izq si es mayor o menor que el valor en el nodo\n",
    "    # analizado, respectivamente.\n",
    "\n",
    "    if val_buscado < self.dato:\n",
    "        if self.izq == None:\n",
    "            return False\n",
    "        return self.izq.bucaVal(val_buscado) # aplica recursibidad para que siga buscando el valor, si aun no lo encuentra.\n",
    "        \n",
    "    elif val_buscado > self.dato:\n",
    "        if self.der == None:\n",
    "            return False\n",
    "        return self.der.bucaVal(val_buscado) # aplica recursibidad para que siga buscando el valor, si aun no lo encuentra.\n",
    "    \n",
    "    else: return True\n",
    "\n",
    "\n",
    "def ver_valores(self):\n",
    "    print(self.dato)\n",
    "    if self.der: self.der.ver_valores()\n",
    "    if self.izq: self.izq.ver_valores()"
   ]
  },
  {
   "cell_type": "code",
   "execution_count": 10,
   "metadata": {},
   "outputs": [
    {
     "name": "stdout",
     "output_type": "stream",
     "text": [
      "valor repetido\n"
     ]
    },
    {
     "ename": "AttributeError",
     "evalue": "'Nodo' object has no attribute 'bucaVal'",
     "output_type": "error",
     "traceback": [
      "\u001b[1;31m---------------------------------------------------------------------------\u001b[0m",
      "\u001b[1;31mAttributeError\u001b[0m                            Traceback (most recent call last)",
      "Cell \u001b[1;32mIn [10], line 7\u001b[0m\n\u001b[0;32m      5\u001b[0m raiz\u001b[39m.\u001b[39minsertaVal(\u001b[39m8\u001b[39m)\n\u001b[0;32m      6\u001b[0m raiz\u001b[39m.\u001b[39minsertaVal(\u001b[39m20\u001b[39m)\n\u001b[1;32m----> 7\u001b[0m raiz\u001b[39m.\u001b[39;49mbuscaVal(\u001b[39m20\u001b[39;49m)\n",
      "Cell \u001b[1;32mIn [9], line 38\u001b[0m, in \u001b[0;36mNodo.buscaVal\u001b[1;34m(self, val_buscado)\u001b[0m\n\u001b[0;32m     36\u001b[0m     \u001b[39mif\u001b[39;00m \u001b[39mself\u001b[39m\u001b[39m.\u001b[39mder \u001b[39m==\u001b[39m \u001b[39mNone\u001b[39;00m:\n\u001b[0;32m     37\u001b[0m         \u001b[39mreturn\u001b[39;00m \u001b[39mFalse\u001b[39;00m\n\u001b[1;32m---> 38\u001b[0m     \u001b[39mreturn\u001b[39;00m \u001b[39mself\u001b[39;49m\u001b[39m.\u001b[39;49mder\u001b[39m.\u001b[39;49mbucaVal(val_buscado) \u001b[39m# aplica recursibidad para que siga buscando el valor, si aun no lo encuentra.\u001b[39;00m\n\u001b[0;32m     40\u001b[0m \u001b[39melse\u001b[39;00m: \u001b[39mreturn\u001b[39;00m \u001b[39mTrue\u001b[39;00m\n",
      "\u001b[1;31mAttributeError\u001b[0m: 'Nodo' object has no attribute 'bucaVal'"
     ]
    }
   ],
   "source": [
    "raiz = Nodo(8)\n",
    "raiz.insertaVal(3)\n",
    "raiz.insertaVal(13)\n",
    "raiz.insertaVal(1)\n",
    "raiz.insertaVal(8)\n",
    "raiz.insertaVal(20)\n",
    "raiz.buscaVal(20)\n"
   ]
  }
 ],
 "metadata": {
  "kernelspec": {
   "display_name": "Python 3",
   "language": "python",
   "name": "python3"
  },
  "language_info": {
   "codemirror_mode": {
    "name": "ipython",
    "version": 3
   },
   "file_extension": ".py",
   "mimetype": "text/x-python",
   "name": "python",
   "nbconvert_exporter": "python",
   "pygments_lexer": "ipython3",
   "version": "3.10.9"
  },
  "orig_nbformat": 4,
  "vscode": {
   "interpreter": {
    "hash": "957a0973b20c9ca410cb31745b8585db68510eafaadcea06bf68cd1027372551"
   }
  }
 },
 "nbformat": 4,
 "nbformat_minor": 2
}
